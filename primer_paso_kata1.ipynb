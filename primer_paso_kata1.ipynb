{
 "cells": [
  {
   "cell_type": "markdown",
   "metadata": {},
   "source": [
    "## Primera Kata"
   ]
  },
  {
   "cell_type": "code",
   "execution_count": 20,
   "metadata": {},
   "outputs": [
    {
     "name": "stdout",
     "output_type": "stream",
     "text": [
      "Registro del Sistema\n",
      "El dia de hoy es: 2022-02-06\n",
      "Calculando parsec a año luz\n",
      "1 parsec es 3.26 Años luz\n",
      "Analizando....\n",
      "Tu convercion es: 6.52 años luz\n"
     ]
    }
   ],
   "source": [
    "from datetime import date \r\n",
    "parsec= 1\r\n",
    "añor_luz=3.26\r\n",
    "print(\"Registro del Sistema\")\r\n",
    "\r\n",
    "print(\"El dia de hoy es: \" + str(date.today()))\r\n",
    "\r\n",
    "print(\"Calculando parsec a año luz\")\r\n",
    "\r\n",
    "print(str(parsec)+ \" parsec es \"  + str(añor_luz) + \" Años luz\")\r\n",
    "\r\n",
    "\r\n",
    "vp_conv=input(\"Ingresa el numero de parsec que deseas convertir\")\r\n",
    "\r\n",
    "resultaro= float(vp_conv) * float(añor_luz)\r\n",
    "print(\"Analizando....\")\r\n",
    "\r\n",
    "print(\"Tu convercion es: \" + str(resultaro) + \" años luz\")\r\n",
    "\r\n"
   ]
  }
 ],
 "metadata": {
  "kernelspec": {
   "display_name": "Python 3.10.2 64-bit",
   "metadata": {
    "interpreter": {
     "hash": "bfb0031bea809bc9b72d781f457a11d5061eebf910e4b02b19e11204d7edcf59"
    }
   },
   "name": "python3"
  },
  "language_info": {
   "codemirror_mode": {
    "name": "ipython",
    "version": 3
   },
   "file_extension": ".py",
   "mimetype": "text/x-python",
   "name": "python",
   "nbconvert_exporter": "python",
   "pygments_lexer": "ipython3",
   "version": "3.10.2"
  },
  "orig_nbformat": 2
 },
 "nbformat": 4,
 "nbformat_minor": 2
}