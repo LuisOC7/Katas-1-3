{
 "cells": [
  {
   "cell_type": "markdown",
   "metadata": {},
   "source": [
    "## KATA 3\r\n",
    "Declaraciones  if,else"
   ]
  },
  {
   "cell_type": "code",
   "execution_count": 5,
   "metadata": {},
   "outputs": [
    {
     "name": "stdout",
     "output_type": "stream",
     "text": [
      "Busquen un asteriode en el cielo\n"
     ]
    }
   ],
   "source": [
    "vel_asteroide=49\r\n",
    "entrada= 25\r\n",
    "\r\n",
    "vel_actual=input(\"Registra la nueva velocidad acutal\")\r\n",
    "\r\n",
    "if int(vel_actual) >= int(entrada):\r\n",
    "    print(\"Busquen un asteriode en el cielo\")\r\n",
    "else:\r\n",
    "    print(\"No hay de que preocuparse\")"
   ]
  },
  {
   "cell_type": "markdown",
   "metadata": {},
   "source": [
    "## Uso de if, else , elif"
   ]
  },
  {
   "cell_type": "code",
   "execution_count": 16,
   "metadata": {},
   "outputs": [
    {
     "name": "stdout",
     "output_type": "stream",
     "text": [
      "Busquen un asteriode en el cielo\n"
     ]
    }
   ],
   "source": [
    "vel_asteroide=49\r\n",
    "entrada= 20\r\n",
    "\r\n",
    "vel_actual=input(\"Registra la nueva velocidad acutal\")\r\n",
    "\r\n",
    "if int(vel_actual) == 19 :\r\n",
    "    print(\"Busquen un asteriode en el cielo\")\r\n",
    "elif int(vel_actual) >= int(entrada):\r\n",
    "    print(\"Busquen un asteriode en el cielo\")\r\n",
    "else:\r\n",
    "    print(\"No hay de que preocuparse\")"
   ]
  },
  {
   "cell_type": "markdown",
   "metadata": {},
   "source": [
    "## Uso de AND, OR"
   ]
  },
  {
   "cell_type": "code",
   "execution_count": 18,
   "metadata": {},
   "outputs": [
    {
     "name": "stdout",
     "output_type": "stream",
     "text": [
      "Busquen un asteriode en el cielo\n"
     ]
    }
   ],
   "source": [
    "entrada= 25\r\n",
    "peso=input(\"Registra el peso del asteroide\")\r\n",
    "vel_actual=input(\"Registra la nueva velocidad acutal\")\r\n",
    "\r\n",
    "\r\n",
    "if int(vel_actual) > 25 and int(peso) > 25 :\r\n",
    "    print(\"Busquen un asteriode en el cielo\")\r\n",
    "elif int(vel_actual) >= int(entrada):\r\n",
    "    print(\"Busquen un asteriode en el cielo\")\r\n",
    "elif int (peso) < 25:\r\n",
    "    print(\"No hay de que preocuparse\")\r\n",
    "\r\n",
    "else:\r\n",
    "    print(\"No hay de que preocuparse\")"
   ]
  }
 ],
 "metadata": {
  "kernelspec": {
   "display_name": "Python 3.10.2 64-bit",
   "metadata": {
    "interpreter": {
     "hash": "bfb0031bea809bc9b72d781f457a11d5061eebf910e4b02b19e11204d7edcf59"
    }
   },
   "name": "python3"
  },
  "language_info": {
   "codemirror_mode": {
    "name": "ipython",
    "version": 3
   },
   "file_extension": ".py",
   "mimetype": "text/x-python",
   "name": "python",
   "nbconvert_exporter": "python",
   "pygments_lexer": "ipython3",
   "version": "3.10.2"
  },
  "orig_nbformat": 2
 },
 "nbformat": 4,
 "nbformat_minor": 2
}