{
 "cells": [
  {
   "cell_type": "code",
   "execution_count": null,
   "metadata": {},
   "outputs": [],
   "source": []
  },
  {
   "cell_type": "markdown",
   "metadata": {},
   "source": [
    "## Ejercicio 1"
   ]
  },
  {
   "cell_type": "code",
   "execution_count": 5,
   "metadata": {},
   "outputs": [
    {
     "name": "stdout",
     "output_type": "stream",
     "text": [
      "Ingresa los planetas que desees, para termina escribe DONE\n"
     ]
    }
   ],
   "source": [
    "new_planet=''\r\n",
    "planet=[]\r\n",
    "print(\"Ingresa los planetas que desees, para termina escribe DONE\")\r\n",
    "while new_planet.lower() != 'done':\r\n",
    "    if new_planet:\r\n",
    "        planet.append(new_planet)\r\n",
    "    new_planet = input('Ingresa tus planetas ')\r\n"
   ]
  },
  {
   "cell_type": "markdown",
   "metadata": {},
   "source": [
    "## Ejercicio 2"
   ]
  },
  {
   "cell_type": "code",
   "execution_count": 9,
   "metadata": {},
   "outputs": [
    {
     "name": "stdout",
     "output_type": "stream",
     "text": [
      "Ingresa los planetas que desees, para termina escribe DONE\n",
      "Venus\n",
      "tierra\n",
      "marte\n",
      "jupiter\n",
      "saturno\n"
     ]
    }
   ],
   "source": [
    "new_planet=''\r\n",
    "planets=[]\r\n",
    "print(\"Ingresa los planetas que desees, para termina escribe DONE\")\r\n",
    "while new_planet.lower() != 'done':\r\n",
    "    if new_planet:\r\n",
    "        planets.append(new_planet)\r\n",
    "    new_planet = input('Ingresa tus planetas ')\r\n",
    "for planet in planets:\r\n",
    "    print(planet)"
   ]
  }
 ],
 "metadata": {
  "kernelspec": {
   "display_name": "Python 3.10.2 64-bit",
   "metadata": {
    "interpreter": {
     "hash": "bfb0031bea809bc9b72d781f457a11d5061eebf910e4b02b19e11204d7edcf59"
    }
   },
   "name": "python3"
  },
  "language_info": {
   "codemirror_mode": {
    "name": "ipython",
    "version": 3
   },
   "file_extension": ".py",
   "mimetype": "text/x-python",
   "name": "python",
   "nbconvert_exporter": "python",
   "pygments_lexer": "ipython3",
   "version": "3.10.2"
  },
  "orig_nbformat": 2
 },
 "nbformat": 4,
 "nbformat_minor": 2
}