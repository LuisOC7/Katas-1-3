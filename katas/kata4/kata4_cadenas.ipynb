{
 "cells": [
  {
   "cell_type": "code",
   "execution_count": null,
   "metadata": {},
   "outputs": [],
   "source": [
    "f"
   ]
  },
  {
   "cell_type": "markdown",
   "metadata": {},
   "source": [
    "## Dividir Cadena"
   ]
  },
  {
   "cell_type": "code",
   "execution_count": 5,
   "metadata": {},
   "outputs": [
    {
     "data": {
      "text/plain": "['Interesting facts about the Moon',\n \"The Moon is Earth's only satellite\",\n 'There are several interesting facts about the Moon and how it affects life here on Earth',\n ' \\nOn average, the Moon moves 4cm away from the Earth every year',\n 'This yearly drift is not significant enough to cause immediate effects on Earth',\n 'The hig']"
     },
     "execution_count": 5,
     "metadata": {},
     "output_type": "execute_result"
    }
   ],
   "source": [
    "text = \"\"\"Interesting facts about the Moon. The Moon is Earth's only satellite. There are several interesting facts about the Moon and how it affects life here on Earth.  \r\n",
    "On average, the Moon moves 4cm away from the Earth every year. This yearly drift is not significant enough to cause immediate effects on Earth. The hig\"\"\"\r\n",
    "text_parts=text.split('. ')\r\n",
    "text_parts"
   ]
  },
  {
   "cell_type": "markdown",
   "metadata": {},
   "source": [
    "## Buscar palabra"
   ]
  },
  {
   "cell_type": "code",
   "execution_count": 24,
   "metadata": {},
   "outputs": [
    {
     "name": "stdout",
     "output_type": "stream",
     "text": [
      "Tu palabra esta en la linea: 165\n"
     ]
    }
   ],
   "source": [
    "text = \"\"\"Interesting facts about the Moon. The Moon is Earth's only satellite. There are several interesting facts about the Moon and how it affects life here on Earth.  \r\n",
    "On average, the Moon moves 4cm away from the Earth every year. This yearly drift is not significant enough to cause immediate effects on Earth. The hig\"\"\"\r\n",
    "\r\n",
    "buscador=text.find('average')\r\n",
    "\r\n",
    "\r\n",
    "print('Tu palabra esta en la linea: ' + str(buscador))"
   ]
  },
  {
   "cell_type": "markdown",
   "metadata": {},
   "source": [
    "## Bucle buscador de palabras"
   ]
  },
  {
   "cell_type": "code",
   "execution_count": 30,
   "metadata": {},
   "outputs": [
    {
     "name": "stdout",
     "output_type": "stream",
     "text": [
      " \n",
      "On average, the Moon moves 4cm away from the Earth every year\n",
      "This yearly drift is not significant enough to cause immediate effects on Earth\n"
     ]
    }
   ],
   "source": [
    "text = \"\"\"Interesting facts about the Moon. The Moon is Earth's only satellite. There are several interesting facts about the Moon and how it affects life here on Earth.  \r\n",
    "On average, the Moon moves 4cm away from the Earth every year. This yearly drift is not significant enough to cause immediate effects on Earth. The hig\"\"\"\r\n",
    "key_words = [\"average\", \"temperature\", \"yearly\"]\r\n",
    "\r\n",
    "for sentence in text_parts:\r\n",
    "    for key_word in key_words:\r\n",
    "        if key_word in sentence:\r\n",
    "            print(sentence)\r\n",
    "            break"
   ]
  },
  {
   "cell_type": "markdown",
   "metadata": {},
   "source": [
    "# Ciclo para cambiar C a Celsius"
   ]
  },
  {
   "cell_type": "code",
   "execution_count": 37,
   "metadata": {},
   "outputs": [],
   "source": [
    "text = \"\"\"Interesting facts about the Moon. The Moon is Earth's only satellite. There are several interesting facts about the Moon and how it affects life here on Earth.  \r\n",
    "On average, the Moon moves 4cm away from the Earth every year. This yearly drift is not significant enough to cause immediate effects on Earth. The hig\"\"\"\r\n",
    "key_words = [\"average\", \"temperature\", \"yearly\"]\r\n",
    "\r\n",
    "for sentence in text_parts:\r\n",
    "    for key_word in key_words:\r\n",
    "        if key_word in sentence:\r\n",
    "            print(sentence.replace(' C', ' Celsius'))\r\n",
    "            break"
   ]
  },
  {
   "cell_type": "markdown",
   "metadata": {},
   "source": [
    "## Tabulacion"
   ]
  },
  {
   "cell_type": "code",
   "execution_count": 68,
   "metadata": {},
   "outputs": [
    {
     "name": "stdout",
     "output_type": "stream",
     "text": [
      "Nombre de la estrella: Moon\n",
      "Gravedad: 0.00162\n",
      "Planeta: Earth\n"
     ]
    }
   ],
   "source": [
    "planeta = \"Moon\"\r\n",
    "gravedad  = 0.00162\r\n",
    "nombre = \"Earth\"\r\n",
    "print(\"Nombre de la estrella: \"+str(planeta)+str('\\n') +\"Gravedad: \" +str(gravedad)+str('\\n')+\"Planeta: \"+ str(nombre))"
   ]
  },
  {
   "cell_type": "markdown",
   "metadata": {},
   "source": [
    "## Titulo"
   ]
  },
  {
   "cell_type": "code",
   "execution_count": 95,
   "metadata": {},
   "outputs": [
    {
     "name": "stdout",
     "output_type": "stream",
     "text": [
      "Nombre de la estrella: Moon\n",
      "Gravedad: 0.00162\n",
      "Planeta: Earth\n"
     ]
    },
    {
     "data": {
      "text/plain": "'Los Planetas'"
     },
     "execution_count": 95,
     "metadata": {},
     "output_type": "execute_result"
    }
   ],
   "source": [
    "cabeza='Los planetas'\r\n",
    "\r\n",
    "planeta = \"Moon\"\r\n",
    "gravedad  = 0.00162\r\n",
    "nombre = \"Earth\"\r\n",
    "\r\n",
    "print(\"Nombre de la estrella: \"+str(planeta)+str('\\n') +\"Gravedad: \" +str(gravedad)+str('\\n')+\"Planeta: \"+ str(nombre))\r\n",
    "cabeza.title()"
   ]
  },
  {
   "cell_type": "markdown",
   "metadata": {},
   "source": [
    "## Plantilla"
   ]
  },
  {
   "cell_type": "code",
   "execution_count": 92,
   "metadata": {},
   "outputs": [
    {
     "name": "stdout",
     "output_type": "stream",
     "text": [
      "-------------------------------------------------------------------------------- \n",
      "Nombre del planeta: Moon \n",
      "Gravedad en Earth: 1.6199999999999999 m/s2 \n",
      "\n"
     ]
    }
   ],
   "source": [
    "\r\n",
    "planeta = \"Moon\"\r\n",
    "gravedad  = 0.00162\r\n",
    "nombre = \"Earth\"\r\n",
    "hechos = f\"\"\"{'-'*80} \r\n",
    "Nombre del planeta: {planeta} \r\n",
    "Gravedad en {nombre}: {gravedad * 1000} m/s2 \r\n",
    "\"\"\"\r\n",
    "\r\n",
    "print(hechos)\r\n"
   ]
  },
  {
   "cell_type": "markdown",
   "metadata": {},
   "source": [
    "## Union de ambas cadenas"
   ]
  },
  {
   "cell_type": "code",
   "execution_count": 98,
   "metadata": {},
   "outputs": [
    {
     "name": "stdout",
     "output_type": "stream",
     "text": [
      "-------------------------------------------------------------------------------- \n",
      "Nombre del planeta: Moon \n",
      "Gravedad en Earth: 1.6199999999999999 m/s2 \n",
      "\n"
     ]
    }
   ],
   "source": [
    "template = f\"\"\"{title.title()} \r\n",
    "{hechos} \r\n",
    "\"\"\" \r\n",
    "print(hechos)"
   ]
  }
 ],
 "metadata": {
  "kernelspec": {
   "display_name": "Python 3.10.2 64-bit",
   "metadata": {
    "interpreter": {
     "hash": "bfb0031bea809bc9b72d781f457a11d5061eebf910e4b02b19e11204d7edcf59"
    }
   },
   "name": "python3"
  },
  "language_info": {
   "codemirror_mode": {
    "name": "ipython",
    "version": 3
   },
   "file_extension": ".py",
   "mimetype": "text/x-python",
   "name": "python",
   "nbconvert_exporter": "python",
   "pygments_lexer": "ipython3",
   "version": "3.10.2"
  },
  "orig_nbformat": 2
 },
 "nbformat": 4,
 "nbformat_minor": 2
}