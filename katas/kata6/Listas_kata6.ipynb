{
 "cells": [
  {
   "cell_type": "code",
   "execution_count": null,
   "metadata": {},
   "outputs": [],
   "source": []
  },
  {
   "cell_type": "markdown",
   "metadata": {},
   "source": [
    "## Ejercicio 1"
   ]
  },
  {
   "cell_type": "code",
   "execution_count": 1,
   "metadata": {},
   "outputs": [
    {
     "name": "stdout",
     "output_type": "stream",
     "text": [
      "['Mercurio', 'Venus', 'Tierra', 'Marte', 'Jupiter', 'Saturno', 'Urano', 'Nepturno']\n"
     ]
    }
   ],
   "source": [
    "planetas=['Mercurio', 'Venus', 'Tierra', 'Marte', 'Jupiter', 'Saturno','Urano', 'Nepturno']\r\n",
    "print(planetas)"
   ]
  },
  {
   "cell_type": "markdown",
   "metadata": {},
   "source": [
    "## 1.1"
   ]
  },
  {
   "cell_type": "code",
   "execution_count": 2,
   "metadata": {},
   "outputs": [
    {
     "name": "stdout",
     "output_type": "stream",
     "text": [
      "Pluton es el ultimo planeta\n"
     ]
    }
   ],
   "source": [
    "planetas=['Mercurio', 'Venus', 'Tierra', 'Marte', 'Jupiter', 'Saturno','Urano', 'Nepturno']\r\n",
    "planetas.append('Pluton')\r\n",
    "print(planetas[-1], 'es el ultimo planeta')"
   ]
  },
  {
   "cell_type": "markdown",
   "metadata": {},
   "source": [
    "## Ejercicio 2"
   ]
  },
  {
   "cell_type": "code",
   "execution_count": 22,
   "metadata": {},
   "outputs": [
    {
     "name": "stdout",
     "output_type": "stream",
     "text": [
      "Tu planeta es el numero: 6\n",
      "Los planetas mas cercanos al Sol son:  Urano\n",
      "['Mercurio', 'Venus', 'Tierra', 'Marte', 'Jupiter', 'Saturno']\n",
      "Los planetas mas lejos del Sol son:  Urano\n",
      "['Nepturno']\n"
     ]
    }
   ],
   "source": [
    "planetas=['Mercurio', 'Venus', 'Tierra', 'Marte', 'Jupiter', 'Saturno','Urano', 'Nepturno']\r\n",
    "\r\n",
    "buscar=input(\"Ingrese el nombre del planeta que desee buscar\")\r\n",
    "\r\n",
    "indice=planetas.index(buscar)\r\n",
    "\r\n",
    "\r\n",
    "print(\"Tu planeta es el numero: \"+ str(indice))\r\n",
    "print('Los planetas mas cercanos al Sol son:  ' + buscar)\r\n",
    "print(planetas[0:indice])\r\n",
    "\r\n",
    "print('Los planetas mas lejos del Sol son:  ' + buscar)\r\n",
    "print(planetas[indice + 1:])"
   ]
  }
 ],
 "metadata": {
  "kernelspec": {
   "display_name": "Python 3.10.2 64-bit",
   "metadata": {
    "interpreter": {
     "hash": "bfb0031bea809bc9b72d781f457a11d5061eebf910e4b02b19e11204d7edcf59"
    }
   },
   "name": "python3"
  },
  "language_info": {
   "codemirror_mode": {
    "name": "ipython",
    "version": 3
   },
   "file_extension": ".py",
   "mimetype": "text/x-python",
   "name": "python",
   "nbconvert_exporter": "python",
   "pygments_lexer": "ipython3",
   "version": "3.10.2"
  },
  "orig_nbformat": 2
 },
 "nbformat": 4,
 "nbformat_minor": 2
}