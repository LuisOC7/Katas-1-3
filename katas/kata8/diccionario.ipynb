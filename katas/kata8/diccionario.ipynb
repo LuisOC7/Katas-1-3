{
 "cells": [
  {
   "cell_type": "code",
   "execution_count": null,
   "metadata": {},
   "outputs": [],
   "source": []
  },
  {
   "cell_type": "markdown",
   "metadata": {},
   "source": [
    "## Ejercicio 1"
   ]
  },
  {
   "cell_type": "code",
   "execution_count": 18,
   "metadata": {},
   "outputs": [
    {
     "name": "stdout",
     "output_type": "stream",
     "text": [
      "Mars con 2 lunas\n",
      "Mars con una circunferencia polar de 6752\n"
     ]
    }
   ],
   "source": [
    "\r\n",
    "planet = {\r\n",
    "    'name': 'Mars',\r\n",
    "    'moons': 2\r\n",
    "}\r\n",
    "print(f'{planet[\"name\"]} con {planet[\"moons\"]} lunas')\r\n",
    "planet['circumference (km)'] = {\r\n",
    "    'polar': 6752,\r\n",
    "    'equatorial': 6792\r\n",
    "}\r\n",
    "\r\n",
    "print(f'{planet[\"name\"]} con una circunferencia polar de {planet[\"circumference (km)\"][\"polar\"]}')\r\n"
   ]
  },
  {
   "cell_type": "markdown",
   "metadata": {},
   "source": [
    "## Ejercicio 2"
   ]
  },
  {
   "cell_type": "code",
   "execution_count": 20,
   "metadata": {},
   "outputs": [
    {
     "name": "stdout",
     "output_type": "stream",
     "text": [
      "0.0\n",
      "0.0\n",
      "0.08333333333333333\n",
      "0.25\n",
      "6.833333333333333\n",
      "13.666666666666666\n",
      "15.916666666666666\n",
      "17.083333333333332\n",
      "17.5\n",
      "17.666666666666668\n",
      "17.75\n",
      "17.833333333333332\n"
     ]
    }
   ],
   "source": [
    "planet_moons = {\r\n",
    "    'mercury': 0,\r\n",
    "    'venus': 0,\r\n",
    "    'earth': 1,\r\n",
    "    'mars': 2,\r\n",
    "    'jupiter': 79,\r\n",
    "    'saturn': 82,\r\n",
    "    'uranus': 27,\r\n",
    "    'neptune': 14,\r\n",
    "    'pluto': 5,\r\n",
    "    'haumea': 2,\r\n",
    "    'makemake': 1,\r\n",
    "    'eris': 1\r\n",
    "}\r\n",
    "moons = planet_moons.values()\r\n",
    "planets = len(planet_moons.keys())\r\n",
    "\r\n",
    "total_moons = 0\r\n",
    "for moon in moons:\r\n",
    "    total_moons = total_moons + moon\r\n",
    "\r\n",
    "    average = total_moons / planets\r\n",
    "\r\n",
    "    print(average)"
   ]
  },
  {
   "cell_type": "code",
   "execution_count": null,
   "metadata": {},
   "outputs": [],
   "source": []
  }
 ],
 "metadata": {
  "kernelspec": {
   "display_name": "Python 3.10.2 64-bit",
   "metadata": {
    "interpreter": {
     "hash": "bfb0031bea809bc9b72d781f457a11d5061eebf910e4b02b19e11204d7edcf59"
    }
   },
   "name": "python3"
  },
  "language_info": {
   "codemirror_mode": {
    "name": "ipython",
    "version": 3
   },
   "file_extension": ".py",
   "mimetype": "text/x-python",
   "name": "python",
   "nbconvert_exporter": "python",
   "pygments_lexer": "ipython3",
   "version": "3.10.2"
  },
  "orig_nbformat": 2
 },
 "nbformat": 4,
 "nbformat_minor": 2
}