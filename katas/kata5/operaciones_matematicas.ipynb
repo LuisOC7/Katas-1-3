{
 "cells": [
  {
   "cell_type": "code",
   "execution_count": null,
   "metadata": {},
   "outputs": [],
   "source": []
  },
  {
   "cell_type": "markdown",
   "metadata": {},
   "source": [
    "## Ejercicio 1 distancia entre 2 planetas"
   ]
  },
  {
   "cell_type": "code",
   "execution_count": 5,
   "metadata": {},
   "outputs": [
    {
     "name": "stdout",
     "output_type": "stream",
     "text": [
      "628949330\n",
      "390577533.93\n"
     ]
    }
   ],
   "source": [
    "Tierra=149597870\r\n",
    "Jupiter=778547200\r\n",
    "\r\n",
    "distancia= Jupiter - Tierra\r\n",
    "print(distancia)\r\n",
    "print(distancia*0.621)"
   ]
  },
  {
   "cell_type": "markdown",
   "metadata": {},
   "source": [
    "## Ejercicio 2"
   ]
  },
  {
   "cell_type": "code",
   "execution_count": 9,
   "metadata": {},
   "outputs": [
    {
     "name": "stdout",
     "output_type": "stream",
     "text": [
      "Hola buen dia\n",
      "ingresa las distancuas de 2 planeras\n",
      "-432423423408990999991\n",
      "2.685349459369834e+20\n"
     ]
    }
   ],
   "source": [
    "print(\"\"\"Hola buen dia\r\n",
    "ingresa las distancuas de 2 planeras\"\"\")\r\n",
    "\r\n",
    "planeta1=input(\"Planeta 1\")\r\n",
    "planeta2=input(\"Planeta 2\")\r\n",
    "\r\n",
    "planeta1=int(planeta1)\r\n",
    "planeta2=int(planeta2)\r\n",
    "\r\n",
    "distancia=planeta1 - planeta2\r\n",
    "print(distancia)\r\n",
    "\r\n",
    "distancia_millas=distancia*0.621\r\n",
    "\r\n",
    "print(abs(distancia_millas))"
   ]
  }
 ],
 "metadata": {
  "kernelspec": {
   "display_name": "Python 3.10.2 64-bit",
   "metadata": {
    "interpreter": {
     "hash": "bfb0031bea809bc9b72d781f457a11d5061eebf910e4b02b19e11204d7edcf59"
    }
   },
   "name": "python3"
  },
  "language_info": {
   "codemirror_mode": {
    "name": "ipython",
    "version": 3
   },
   "file_extension": ".py",
   "mimetype": "text/x-python",
   "name": "python",
   "nbconvert_exporter": "python",
   "pygments_lexer": "ipython3",
   "version": "3.10.2"
  },
  "orig_nbformat": 2
 },
 "nbformat": 4,
 "nbformat_minor": 2
}